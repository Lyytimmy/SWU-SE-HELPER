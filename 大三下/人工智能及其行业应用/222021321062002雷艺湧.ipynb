{
 "cells": [
  {
   "cell_type": "markdown",
   "id": "2371a82f-8fc0-4737-a582-06a080030c2c",
   "metadata": {
    "tags": []
   },
   "source": [
    "# Quiz\n",
    "\n",
    "请运行这个ipynb文件，在下面的cell中填写你的答案，并按照“学号-姓名.ipynb”在一周内上传到ftp。\n",
    "\n",
    "\n",
    "判卷使用脚本运行，所以请保证ipynb是可以正常运行的。"
   ]
  },
  {
   "cell_type": "code",
   "execution_count": null,
   "id": "7f5e79de-b274-4fdc-a3a1-0f68993b8782",
   "metadata": {
    "tags": []
   },
   "outputs": [],
   "source": [
    "import torch\n",
    "import numpy as np"
   ]
  },
  {
   "cell_type": "markdown",
   "id": "945052f5-9745-4584-8b34-3255a7595134",
   "metadata": {},
   "source": [
    "## 示例\n",
    "\n",
    "### 选择题：Q0: 人工智能之父是谁？（10）\n"
   ]
  },
  {
   "cell_type": "code",
   "execution_count": null,
   "id": "de0da011-3b34-4d3a-a645-57980d71be9b",
   "metadata": {
    "tags": []
   },
   "outputs": [],
   "source": [
    "options = ['图灵', '冯诺伊曼', '诺贝尔', '香农']"
   ]
  },
  {
   "cell_type": "code",
   "execution_count": null,
   "id": "d7d9403a-cbae-462d-b78e-3a4673b51536",
   "metadata": {
    "tags": []
   },
   "outputs": [],
   "source": [
    "q0_answer = options[0] \n",
    "q0_answer = '图灵' "
   ]
  },
  {
   "cell_type": "markdown",
   "id": "2382e806-3c29-4c06-8edd-c559c986f085",
   "metadata": {},
   "source": [
    "判卷说明：\n",
    "\n",
    "脚本会读取q0_answer的结果，然后做判断，以判断最后获取的分数\n",
    "``` python\n",
    "score += 10 if q0_answer == '图灵' else 0\n",
    "```"
   ]
  },
  {
   "cell_type": "markdown",
   "id": "6274edb5-90ad-4476-8709-ad7db920b16d",
   "metadata": {},
   "source": [
    "### 填空题：Q0: 请谈一下你认为的人工智能，不少于20字符（10）"
   ]
  },
  {
   "cell_type": "code",
   "execution_count": null,
   "id": "af6f373c-c305-47e1-ab26-b41df31dfade",
   "metadata": {
    "tags": []
   },
   "outputs": [],
   "source": [
    "q0_answer = \"\"\"\n",
    "我认为人工智能就是用计算机去实现智能，完成各种复杂的任务。\n",
    "\"\"\""
   ]
  },
  {
   "cell_type": "code",
   "execution_count": null,
   "id": "5140cbdf-c0d8-4b7b-ac24-58802a11b771",
   "metadata": {
    "tags": []
   },
   "outputs": [],
   "source": [
    "assert len(q0_answer.strip()) > 20"
   ]
  },
  {
   "cell_type": "markdown",
   "id": "ce38bd8b-03a2-4948-b0a7-cca3080b42c6",
   "metadata": {
    "tags": []
   },
   "source": [
    "### 代码题：Q0: 取得下面array的最大值（10）"
   ]
  },
  {
   "cell_type": "code",
   "execution_count": null,
   "id": "e3b9d7e2-e776-4a88-81ae-56c74c7b5897",
   "metadata": {
    "tags": []
   },
   "outputs": [],
   "source": [
    "a = np.arange(10)"
   ]
  },
  {
   "cell_type": "code",
   "execution_count": null,
   "id": "6ed21156-afc5-4c6d-84f5-4a277f09937d",
   "metadata": {
    "tags": []
   },
   "outputs": [],
   "source": [
    "q0_answer = np.max(a)"
   ]
  },
  {
   "cell_type": "code",
   "execution_count": null,
   "id": "5c3e0edf",
   "metadata": {},
   "outputs": [],
   "source": [
    "assert q0_answer == np.max(a)"
   ]
  },
  {
   "cell_type": "markdown",
   "id": "43ec0296-3d79-4cff-a70f-16b5c5e77eab",
   "metadata": {},
   "source": [
    "# Quiz 开始"
   ]
  },
  {
   "cell_type": "markdown",
   "id": "0bc8942b-98c6-4bad-b8f6-30ab9c6d9d23",
   "metadata": {},
   "source": [
    "### Q1: 以下选项哪个不是人工智能三大学派？（10）"
   ]
  },
  {
   "cell_type": "code",
   "execution_count": 1,
   "id": "1bab5c6f-b78b-41a8-8026-6c561a42de79",
   "metadata": {
    "tags": []
   },
   "outputs": [],
   "source": [
    "q1_options = ['符号主义', '联结主义', '学习主义', '行为主义']"
   ]
  },
  {
   "cell_type": "code",
   "execution_count": 2,
   "id": "2e9f0532-1146-4e69-9be0-76f48bb298b4",
   "metadata": {
    "tags": []
   },
   "outputs": [],
   "source": [
    "q1_answer = '学习主义'"
   ]
  },
  {
   "cell_type": "markdown",
   "id": "12d70ff5-479f-416f-9711-6e84b0fa7cde",
   "metadata": {},
   "source": [
    "### Q2: 以下哪个会议不是人工智能CCF-A会议（2022年版本）？（10）"
   ]
  },
  {
   "cell_type": "code",
   "execution_count": null,
   "id": "ab6bafca-f422-4ef6-b4b4-7c2400dc8437",
   "metadata": {
    "tags": []
   },
   "outputs": [],
   "source": [
    "q2_options = ['IJCAI', 'AAAI', 'ICML', 'NeurIPS', 'CVPR', 'WWW', 'ICCV', 'ACL']"
   ]
  },
  {
   "cell_type": "code",
   "execution_count": null,
   "id": "186411b8-fd2c-4bf8-9bff-ca4b5b73ea63",
   "metadata": {
    "tags": []
   },
   "outputs": [],
   "source": [
    "q2_answer = 'WWW'"
   ]
  },
  {
   "cell_type": "markdown",
   "id": "eba8466b-1e65-42ac-a212-44dd018ec584",
   "metadata": {},
   "source": [
    "### Q3: 大语言模型的改进方案和传统的自然语言处理区别？不少于20字符（10）"
   ]
  },
  {
   "cell_type": "code",
   "execution_count": null,
   "id": "68807d81-dcef-494d-bfd9-056f998a2b6b",
   "metadata": {
    "tags": []
   },
   "outputs": [],
   "source": [
    "q3_answer = \"\"\"\n",
    "传统的自然语言处理方法通常基于规则和模式匹配，需要手动设计特征和规则来解决问题，而大型语言模型则利用深度学习技术从大规模文本数据中学习语言模式和语义，能够更好地理解上下文和语境，生成更加准确、自然的文本。\n",
    "\"\"\""
   ]
  },
  {
   "cell_type": "code",
   "execution_count": null,
   "id": "af18cd63-02db-4ff1-8703-4a0412817b9c",
   "metadata": {
    "tags": []
   },
   "outputs": [],
   "source": [
    "# assert len(q3_answer.strip()) > 0"
   ]
  },
  {
   "cell_type": "markdown",
   "id": "41e404c6-bcb1-473a-87c8-a0eda9d1452f",
   "metadata": {},
   "source": [
    "### Q4: 请解释一下ChatGPT的指令微调? 不少于20字符（10）"
   ]
  },
  {
   "cell_type": "code",
   "execution_count": null,
   "id": "2e30feef-97d0-4c5c-ba1c-19c94e8df763",
   "metadata": {
    "tags": []
   },
   "outputs": [],
   "source": [
    "q4_answer = \"\"\"\n",
    "ChatGPT的指令微调是指对预训练的ChatGPT模型进行额外的训练，以使其适应特定任务或领域。通过微调，可以提高模型在特定任务上的性能，使其更加贴合用户需求和语境。\n",
    "\"\"\""
   ]
  },
  {
   "cell_type": "code",
   "execution_count": null,
   "id": "1fb5fa7e-a331-448c-90a4-6afd3f82f635",
   "metadata": {
    "tags": []
   },
   "outputs": [],
   "source": [
    "# assert len(q4_answer.strip()) > 20"
   ]
  },
  {
   "cell_type": "markdown",
   "id": "471e96a6-feaf-4efe-9b98-e577f752e3dd",
   "metadata": {},
   "source": [
    "### Q5: 请举例说明一个人工智能的案例，并讲讲你最印象深刻的点? 不少于20字符（10）"
   ]
  },
  {
   "cell_type": "code",
   "execution_count": null,
   "id": "25823172-0265-4cbd-9d34-96d6c48737b5",
   "metadata": {
    "tags": []
   },
   "outputs": [],
   "source": [
    "q5_answer = \"\"\"\n",
    "一个案例是ChatGPT，ChatGPT是一个大型语言模型，可以进行对话生成。让我最深刻的点是chatgpt改变了人们与计算机之间的交互方式。通过ChatGPT等技术，人们可以与计算机进行更加自然和流畅的对话，这对于提高用户体验、增强人机交互的便利性具有重要意义。\n",
    "\"\"\""
   ]
  },
  {
   "cell_type": "code",
   "execution_count": null,
   "id": "61ba23dd-0e05-4ade-b1b9-a0217417d50b",
   "metadata": {
    "tags": []
   },
   "outputs": [],
   "source": [
    "# assert len(q5_answer.strip()) > 20"
   ]
  },
  {
   "cell_type": "markdown",
   "id": "4dbed11a-dd39-48cc-8e83-36fec933fb64",
   "metadata": {},
   "source": [
    "### Q6: 什么是图灵测试？不少于20字符（10）"
   ]
  },
  {
   "cell_type": "code",
   "execution_count": null,
   "id": "11fbfe25-288f-4f17-9008-cef1e8315120",
   "metadata": {
    "tags": []
   },
   "outputs": [],
   "source": [
    "q6_answer = \"\"\"\n",
    "图灵测试是由英国数学家艾伦·图灵提出的一个概念性测试，用于评估机器是否具有智能。测试的基本思想是在一个对话场景中，一个人与一个机器和另一个人进行对话，但对话双方的身份对被测试的人是不可见的。如果被测试的人无法区分机器和真人的对话，即无法准确判断哪个是机器，那么该机器就被认为具有智能。\n",
    "\"\"\""
   ]
  },
  {
   "cell_type": "markdown",
   "id": "b595f20d-4468-4ca2-b469-9fa9c21ef231",
   "metadata": {},
   "source": [
    "### Q7: 将下列数组的最大值替换为0（10）\n",
    "\n",
    "输入：\n",
    "```\n",
    "  np.array([1, 2, 3, 4, 5])\n",
    "``` \n",
    "\n",
    "期望输出：\n",
    "```\n",
    "  np.array([1, 2, 3, 4, 0])\n",
    "```"
   ]
  },
  {
   "cell_type": "code",
   "execution_count": 1,
   "id": "8466768f-1ad4-40d9-af80-71bafa75d3b8",
   "metadata": {
    "tags": []
   },
   "outputs": [
    {
     "ename": "ModuleNotFoundError",
     "evalue": "No module named 'numpy'",
     "output_type": "error",
     "traceback": [
      "\u001b[0;31m---------------------------------------------------------------------------\u001b[0m",
      "\u001b[0;31mModuleNotFoundError\u001b[0m                       Traceback (most recent call last)",
      "Cell \u001b[0;32mIn[1], line 1\u001b[0m\n\u001b[0;32m----> 1\u001b[0m \u001b[38;5;28;01mimport\u001b[39;00m \u001b[38;5;21;01mnumpy\u001b[39;00m \u001b[38;5;28;01mas\u001b[39;00m \u001b[38;5;21;01mnp\u001b[39;00m\n\u001b[1;32m      2\u001b[0m array \u001b[38;5;241m=\u001b[39m np\u001b[38;5;241m.\u001b[39marray([\u001b[38;5;241m1\u001b[39m, \u001b[38;5;241m2\u001b[39m, \u001b[38;5;241m3\u001b[39m, \u001b[38;5;241m4\u001b[39m, \u001b[38;5;241m5\u001b[39m])\n\u001b[1;32m      3\u001b[0m max_index \u001b[38;5;241m=\u001b[39m np\u001b[38;5;241m.\u001b[39margmax(array)\n",
      "\u001b[0;31mModuleNotFoundError\u001b[0m: No module named 'numpy'"
     ]
    }
   ],
   "source": [
    "import numpy as np\n",
    "array = np.array([1, 2, 3, 4, 5])\n",
    "max_index = np.argmax(array)\n",
    "array[max_index] = 0\n",
    "print(array)"
   ]
  },
  {
   "cell_type": "code",
   "execution_count": null,
   "id": "07f8deba-81d4-436d-b1a1-496b836f5658",
   "metadata": {
    "tags": []
   },
   "outputs": [],
   "source": [
    "q7_answer = array\n"
   ]
  },
  {
   "cell_type": "code",
   "execution_count": null,
   "id": "e0cc0794-a7e5-4d66-bf5c-ecb796938f78",
   "metadata": {
    "tags": []
   },
   "outputs": [],
   "source": [
    "q7_answer"
   ]
  },
  {
   "cell_type": "markdown",
   "id": "9c0c4641-30b0-468b-9cd1-8300e18dca0e",
   "metadata": {},
   "source": [
    "### Q8: 如何删除 NumPy 数组中所有的缺失值？（10）\n",
    "输入：\n",
    "```\n",
    "np.array([1,2,3,4,np.nan,5,6,7,np.nan])\n",
    "```\n",
    "期望输出：\n",
    "```\n",
    "array([ 1., 2., 3., 5., 6., 7.])\n",
    "```"
   ]
  },
  {
   "cell_type": "code",
   "execution_count": null,
   "id": "39f7ac3e-79c3-492f-ad4e-c4ffa031c6e7",
   "metadata": {},
   "outputs": [],
   "source": [
    "import numpy as np\n",
    "array = np.array([1, 2, 3, 4, np.nan, 5, 6, 7, np.nan])\n",
    "not_nan_indices = ~np.isnan(array)\n",
    "array_without_nan = array[not_nan_indices]\n",
    "print(array_without_nan)\n"
   ]
  },
  {
   "cell_type": "code",
   "execution_count": null,
   "id": "29093695-47f7-48cc-877f-9a968613d610",
   "metadata": {},
   "outputs": [],
   "source": [
    "q8_answer = array_without_nan\n"
   ]
  },
  {
   "cell_type": "code",
   "execution_count": null,
   "id": "67e39166-0459-423c-9059-33866bfcb423",
   "metadata": {
    "tags": []
   },
   "outputs": [],
   "source": [
    "q8_answer"
   ]
  },
  {
   "cell_type": "markdown",
   "id": "3a9042db-f8b4-4122-929e-c0717daac041",
   "metadata": {},
   "source": [
    "### Q9: 以下哪个不是卷积神经网络结构的特性？ (10)\n",
    "A. 局部连接\n",
    "\n",
    "B. 全局共享\n",
    "\n",
    "C. 池化操作\n",
    "\n",
    "D. 非欧空间"
   ]
  },
  {
   "cell_type": "code",
   "execution_count": null,
   "id": "644996bf-8b8a-4eef-ace7-1bc3cc4f9817",
   "metadata": {
    "tags": []
   },
   "outputs": [],
   "source": [
    "q9_options = ['A', 'B', 'C', 'D']"
   ]
  },
  {
   "cell_type": "code",
   "execution_count": null,
   "id": "b9702dff-b8f8-4ff2-8320-1875d3e6685d",
   "metadata": {
    "tags": []
   },
   "outputs": [],
   "source": [
    "q9_answer = 'D'"
   ]
  },
  {
   "cell_type": "code",
   "execution_count": null,
   "id": "a092e130-cc0d-4b40-a903-335809e39f95",
   "metadata": {},
   "outputs": [],
   "source": [
    "q9_answer"
   ]
  },
  {
   "cell_type": "markdown",
   "id": "7f1e9392-52eb-4ad4-ac3c-9359ad391b54",
   "metadata": {},
   "source": [
    "### Q10: 取出给定矩阵的对角线数组, 并且扩大 行+1倍（行从0开始）。（10）\n",
    "\n",
    "```\n",
    "mat = array([[ 0,  1,  2,  3],\n",
    "             [ 4,  5,  6,  7],\n",
    "             [ 8,  9, 10, 11],\n",
    "             [12, 13, 14, 15]])\n",
    "```\n",
    "\n",
    "期望输出结果为 \n",
    "\n",
    "```\n",
    "array([0, 10, 30, 60])\n",
    "```"
   ]
  },
  {
   "cell_type": "code",
   "execution_count": null,
   "id": "82be27fc-865d-4884-9933-d3b8f16e32f8",
   "metadata": {
    "tags": []
   },
   "outputs": [],
   "source": [
    "import numpy as np\n",
    "mat = np.array([[ 0,  1,  2,  3],\n",
    "                [ 4,  5,  6,  7],\n",
    "                [ 8,  9, 10, 11],\n",
    "                [12, 13, 14, 15]])\n",
    "diagonal = np.diag(mat)\n",
    "expanded_diagonal = diagonal * np.arange(1, mat.shape[0] + 1)\n",
    "print(expanded_diagonal)\n"
   ]
  },
  {
   "cell_type": "code",
   "execution_count": null,
   "id": "cb1fb873-dc29-4d35-93d8-dede9b059154",
   "metadata": {
    "tags": []
   },
   "outputs": [],
   "source": [
    "q10_answer = expanded_diagonal "
   ]
  },
  {
   "cell_type": "code",
   "execution_count": null,
   "id": "555669a2-b9cc-4e08-837c-ab785e14f9e3",
   "metadata": {
    "tags": []
   },
   "outputs": [],
   "source": [
    "q10_answer"
   ]
  },
  {
   "cell_type": "code",
   "execution_count": null,
   "id": "b0581809-59dc-42e9-8424-e16d4e3ca7a5",
   "metadata": {
    "tags": []
   },
   "outputs": [],
   "source": [
    "results = [\n",
    "    q1_answer,\n",
    "    q2_answer,\n",
    "    q3_answer,\n",
    "    q4_answer,\n",
    "    q5_answer,\n",
    "    q6_answer,\n",
    "    q7_answer,\n",
    "    q8_answer,\n",
    "    q9_answer,    \n",
    "    q10_answer    \n",
    "]\n",
    "if results:\n",
    "    print(\"保存 学号+姓名.ipynb， 上传ftp即可\")"
   ]
  }
 ],
 "metadata": {
  "kernelspec": {
   "display_name": "Python 3 (ipykernel)",
   "language": "python",
   "name": "python3"
  },
  "language_info": {
   "codemirror_mode": {
    "name": "ipython",
    "version": 3
   },
   "file_extension": ".py",
   "mimetype": "text/x-python",
   "name": "python",
   "nbconvert_exporter": "python",
   "pygments_lexer": "ipython3",
   "version": "3.9.6"
  }
 },
 "nbformat": 4,
 "nbformat_minor": 5
}
